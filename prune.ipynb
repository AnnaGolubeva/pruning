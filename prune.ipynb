{
 "cells": [
  {
   "cell_type": "code",
   "execution_count": 1,
   "metadata": {},
   "outputs": [],
   "source": [
    "import torch\n",
    "import torch.nn as nn\n",
    "import numpy as np\n",
    "\n",
    "import matplotlib.pyplot as plt\n",
    "%matplotlib inline"
   ]
  },
  {
   "cell_type": "markdown",
   "metadata": {},
   "source": [
    "# Training"
   ]
  },
  {
   "cell_type": "markdown",
   "metadata": {},
   "source": [
    "## load the dataset"
   ]
  },
  {
   "cell_type": "code",
   "execution_count": 2,
   "metadata": {},
   "outputs": [],
   "source": [
    "import torchvision\n",
    "from torchvision import datasets, transforms\n",
    "\n",
    "\n",
    "def load_MNIST(data_dir, split, batch_size, shuffle, kwargs={}):\n",
    "    \"\"\" Load and preprocess MNIST data, return data loader. \"\"\"\n",
    "\n",
    "    train_flag= True if split=='train' else False\n",
    "    transform= transforms.Compose(\n",
    "        [transforms.ToTensor(), \n",
    "         transforms.Normalize((0.1307,), (0.3081,))\n",
    "         ])\n",
    "    dataset= datasets.MNIST(data_dir, train=train_flag, \n",
    "                            download=True, transform=transform)\n",
    "    \n",
    "    if batch_size ==0:  batch_size = len(dataset) # load full test set\n",
    "    data_loader= torch.utils.data.DataLoader(dataset, \n",
    "                                             batch_size = batch_size, \n",
    "                                             shuffle = shuffle, \n",
    "                                             **kwargs)\n",
    "    return data_loader\n",
    "\n",
    "\n",
    "data_dir = './data'\n",
    "input_size= 28**2\n",
    "num_classes = 10\n",
    "\n",
    "mbs = 128\n",
    "\n",
    "train_loader = load_MNIST(data_dir, 'train', mbs, shuffle=True)\n",
    "test_loader  = load_MNIST(data_dir, 'test', 0, shuffle=False)\n"
   ]
  },
  {
   "cell_type": "code",
   "execution_count": 4,
   "metadata": {},
   "outputs": [],
   "source": [
    "# how to get a single minibatch from the data loader\n",
    "_inputs, _labels = next(iter(train_loader))"
   ]
  },
  {
   "attachments": {},
   "cell_type": "markdown",
   "metadata": {},
   "source": [
    "## plot some examples from the training set"
   ]
  },
  {
   "cell_type": "code",
   "execution_count": 5,
   "metadata": {},
   "outputs": [
    {
     "data": {
      "image/png": "[encoded data removed]",
      "text/plain": [
       "<Figure size 1000x400 with 10 Axes>"
      ]
     },
     "metadata": {},
     "output_type": "display_data"
    }
   ],
   "source": [
    "g = torch.Generator().manual_seed(4)\n",
    "\n",
    "ind = torch.randperm(len(_labels), generator=g)[:10]\n",
    "xs, ys = _inputs[ind], _labels[ind]\n",
    "\n",
    "\n",
    "fig, axs = plt.subplots(2,5, figsize=(10,4))\n",
    "\n",
    "for i, ax in enumerate(axs.flatten()):\n",
    "\n",
    "    x = xs[i][0]\n",
    "    y = ys[i]\n",
    "    ax.imshow(x)\n",
    "\n",
    "    ax.set_title(y.item())\n",
    "    \n",
    "    ax.set_xticks([])\n",
    "    ax.set_yticks([])\n"
   ]
  },
  {
   "cell_type": "markdown",
   "metadata": {},
   "source": [
    "## plot samples from one class"
   ]
  },
  {
   "cell_type": "code",
   "execution_count": 6,
   "metadata": {},
   "outputs": [],
   "source": [
    "# this loads the entire test set (10k), because it is not mini-batched\n",
    "_inputs, _labels = next(iter(test_loader))"
   ]
  },
  {
   "cell_type": "code",
   "execution_count": 7,
   "metadata": {},
   "outputs": [
    {
     "data": {
      "image/png": "[encoded data removed]",
      "text/plain": [
       "<Figure size 1000x400 with 10 Axes>"
      ]
     },
     "metadata": {},
     "output_type": "display_data"
    }
   ],
   "source": [
    "g = torch.Generator().manual_seed(4)\n",
    "\n",
    "target_class = 2\n",
    "target_inds = torch.where(_labels== target_class)[0]\n",
    "selection = torch.randperm(len(target_inds), generator=g)[:10]\n",
    "xs, ys = _inputs[target_inds[selection]], _labels[target_inds[selection]]\n",
    "\n",
    "\n",
    "fig, axs = plt.subplots(2,5, figsize=(10,4))\n",
    "\n",
    "for i, ax in enumerate(axs.flatten()):\n",
    "\n",
    "    x = xs[i][0]\n",
    "    y = ys[i]\n",
    "    ax.imshow(x)\n",
    "\n",
    "    ax.set_title(y.item())\n",
    "    \n",
    "    ax.set_xticks([])\n",
    "    ax.set_yticks([])\n",
    "\n"
   ]
  },
  {
   "attachments": {},
   "cell_type": "markdown",
   "metadata": {},
   "source": [
    "## define model"
   ]
  },
  {
   "cell_type": "code",
   "execution_count": 9,
   "metadata": {},
   "outputs": [],
   "source": [
    "class miniNet(nn.Module):\n",
    "    def __init__(self):\n",
    "        super().__init__()\n",
    "\n",
    "        self.flatten = nn.Flatten()\n",
    "        self.layer1 = nn.Linear(28*28, 32, bias=False)\n",
    "        self.layer2 = nn.Linear(32, 10, bias=False)\n",
    "        self.actfun = nn.ReLU()\n",
    "\n",
    "        self.layers = [self.layer1, self.layer2]\n",
    "\n",
    "        # for pruning\n",
    "        self.layer1.mask = None\n",
    "        self.layer2.mask = None\n",
    "        \n",
    "    @torch.no_grad()\n",
    "    def apply_mask(self):\n",
    "        for layer in self.layers:\n",
    "            layer.weight *= layer.mask\n",
    "        \n",
    "    def forward(self, x):\n",
    "        x = self.flatten(x) # flattens along all dimensions except the 0-th (the batch dim)\n",
    "        out = self.layer1(x)\n",
    "        out = self.actfun(out)\n",
    "        out = self.layer2(out)\n",
    "\n",
    "        return out\n",
    "    "
   ]
  },
  {
   "cell_type": "code",
   "execution_count": null,
   "metadata": {},
   "outputs": [],
   "source": [
    "model = miniNet()\n",
    "\n",
    "for p in model.named_parameters():\n",
    "    print(f'{p[0]:15s} {p[1].shape}')\n",
    "\n",
    "# for p in model.parameters():\n",
    "#     print(p.shape)"
   ]
  },
  {
   "cell_type": "markdown",
   "metadata": {},
   "source": [
    "## train model"
   ]
  },
  {
   "cell_type": "code",
   "execution_count": null,
   "metadata": {},
   "outputs": [],
   "source": [
    "lr = 0.5\n",
    "\n",
    "optimizer = torch.optim.SGD(model.parameters(), lr = lr) \n",
    "scheduler = torch.optim.lr_scheduler.MultiStepLR(optimizer, milestones=[20,35], gamma=0.1)\n",
    "lossfun = nn.CrossEntropyLoss()"
   ]
  },
  {
   "cell_type": "code",
   "execution_count": null,
   "metadata": {},
   "outputs": [],
   "source": [
    "max_epochs = 40 # number of training epochs\n",
    "\n",
    "step_counter = 0 # counting training iterations (gradient updates done)\n",
    "epoch = 0\n",
    "\n",
    "model.train()\n",
    "while epoch <= max_epochs:\n",
    "    loss_sum, total, correct = 0, 0, 0\n",
    "\n",
    "    for mbi, mini_batch in enumerate(train_loader):\n",
    "        step_counter += 1\n",
    "        images, labels = mini_batch\n",
    "        \n",
    "        #=== forward pass\n",
    "        outputs = model(images)\n",
    "        loss = lossfun(outputs, labels)\n",
    "        loss_sum += len(labels) * loss.item()\n",
    "        _, predicted = torch.max(outputs.data, 1)\n",
    "        correct += (predicted == labels).sum().item()\n",
    "        total += len(labels)\n",
    "\n",
    "        #=== backward pass\n",
    "        optimizer.zero_grad()\n",
    "        loss.backward()\n",
    "        optimizer.step()\n",
    "\n",
    "    #==== epoch completed.\n",
    "\n",
    "    train_loss = loss_sum/total\n",
    "    train_acc = correct/total\n",
    "    \n",
    "    print(f'=== epoch {epoch:3}:  Loss {train_loss:.2f}  Acc {train_acc:.4f}')\n",
    "\n",
    "    scheduler.step()\n",
    "    epoch += 1 \n"
   ]
  },
  {
   "cell_type": "markdown",
   "metadata": {},
   "source": [
    "## evaluate trained model"
   ]
  },
  {
   "cell_type": "code",
   "execution_count": null,
   "metadata": {},
   "outputs": [],
   "source": [
    "model.eval()\n",
    "loss_sum, total, correct = 0, 0, 0\n",
    "\n",
    "for images, labels in test_loader:\n",
    "    \n",
    "    outputs = model(images)\n",
    "    loss = lossfun(outputs, labels)\n",
    "    loss_sum += len(labels) * loss.item()\n",
    "    _, predicted = torch.max(outputs.data, 1)\n",
    "    correct += (predicted == labels).cpu().sum().item()\n",
    "    total += len(labels)\n",
    "\n",
    "test_loss = loss_sum/total\n",
    "test_acc = correct/total\n",
    "\n",
    "print(f'Final Test Result:    Loss {test_loss:.2f}  Acc {test_acc:.4f}')"
   ]
  },
  {
   "cell_type": "markdown",
   "metadata": {},
   "source": [
    "## save model checkpoint"
   ]
  },
  {
   "cell_type": "code",
   "execution_count": null,
   "metadata": {},
   "outputs": [],
   "source": [
    "import os\n",
    "\n",
    "def save_checkpoint(state, savepath):\n",
    "    \"\"\"Save model checkpoint.\"\"\"\n",
    "    # create (sub)dirs if not yet existent\n",
    "    savedir = os.path.dirname(savepath)\n",
    "    if not os.path.exists(savedir):\n",
    "        os.mkdir(savedir)\n",
    "    torch.save(state, f'{savepath}.ckpt')\n",
    "\n",
    "\n",
    "\n",
    "state= {'epoch': epoch, \n",
    "        'state_dict': model.state_dict(),\n",
    "        'optimizer': optimizer.state_dict(), \n",
    "        'scheduler': scheduler.state_dict(),\n",
    "        'test_loss': test_loss, \n",
    "        'test_acc': test_acc\n",
    "        }\n",
    "\n",
    "save_name= './checkpoints/final'\n",
    "save_checkpoint(state, save_name)\n"
   ]
  },
  {
   "cell_type": "markdown",
   "metadata": {},
   "source": [
    "## load model from checkpoint"
   ]
  },
  {
   "cell_type": "code",
   "execution_count": 10,
   "metadata": {},
   "outputs": [
    {
     "data": {
      "text/plain": [
       "miniNet(\n",
       "  (flatten): Flatten(start_dim=1, end_dim=-1)\n",
       "  (layer1): Linear(in_features=784, out_features=32, bias=False)\n",
       "  (layer2): Linear(in_features=32, out_features=10, bias=False)\n",
       "  (actfun): ReLU()\n",
       ")"
      ]
     },
     "execution_count": 10,
     "metadata": {},
     "output_type": "execute_result"
    }
   ],
   "source": [
    "# load model from checkpoint\n",
    "\n",
    "model = miniNet()\n",
    "\n",
    "lr = 0.5\n",
    "optimizer = torch.optim.SGD(model.parameters(), lr = lr) \n",
    "scheduler = torch.optim.lr_scheduler.MultiStepLR(optimizer, milestones=[20,35], gamma=0.1)\n",
    "lossfun = nn.CrossEntropyLoss()\n",
    "\n",
    "save_name= './checkpoints/final'\n",
    "checkpoint = torch.load(save_name+'.ckpt')\n",
    "model.load_state_dict(checkpoint['state_dict'])\n",
    "optimizer.load_state_dict(checkpoint['optimizer'])\n",
    "# scheduler.load_state_dict(checkpoint['scheduler'])\n",
    "\n",
    "epoch = checkpoint['epoch']\n",
    "loss = checkpoint['test_loss']\n",
    "acc = checkpoint['test_acc']\n",
    "\n",
    "model.eval()"
   ]
  },
  {
   "cell_type": "markdown",
   "metadata": {},
   "source": [
    "# Pruning"
   ]
  },
  {
   "cell_type": "code",
   "execution_count": 11,
   "metadata": {},
   "outputs": [
    {
     "data": {
      "text/plain": [
       "'\\n\"pruning a weight\" means setting its value to zero and keeping it fixed - that is, \\nit will not be updated in further training steps.\\nwe implement pruning with masks: a mask is a binary-valued tensor of the same \\nshape as the associated weight tensor, with \"1\" for weights that are to be kept \\nand \"0\" for weights that are to be pruned. it is applied to the weight tensor by \\nelement-wise multiplication.\\n\\nhow do we choose which weights to prune? there is a number of different possible \\ncriteria. we shall focus on magnitude-based weight pruning post training, a simple \\nand effective pruning technique: the model is first trained. then, a certain number\\nof weights with the smallest magnitude are pruned. after that, an additional couple\\nsteps of training are done to fine-tune (adjust) the remaining non-pruned weights. \\ndoing a single pruning step is called \"1-shot pruning\". alternatively, one can turn \\nthis into an iterative process, where pruning followed by fine-tuning is repeated \\nmultiple times until the desired sparsity is reached. the iterative process is more \\nexpensive, but also yields better results.\\n\\nthe number of weights to prune in every iteration is arbitrary and is to be chosen \\ndepending on the details of the procedure and the goal. typically, the goal is to \\nreduce the number of weights as much as possible while maintaining model accuracy. \\nhow many weights can be pruned without incurring any damage to the model depends \\non many details and can usually only be determined empirically in experiments. in \\ngeneral, pruning a large fraction of weights 1-shot is more damaging than pruning \\nthe same fraction of weights over multiple prune-train iterations. as a rule of \\nthumb, pruning 20% is often a good starting point.\\n\\na note on naming conventions:\\na model with some fraction of its weights pruned is called \"sparse\", while a model \\nwith all its weights present is called \"dense\". \\nsparsity (of the model, or of a weight tensor) is defined as the fraction of pruned \\nweights: that is, a dense model is 0.0 sparse; after pruning 20%, the model is 0.2 \\nsparse etc. the opposite of sparsity is sometimes called \"connectivity\", defined as \\nthe fraction of the original weights remaining: connectivity = 1 - sparsity.\\n\\nbefore implementing magnitude-based pruning, we analyse the trained model\\'s weights \\nin a couple of plots.\\n'"
      ]
     },
     "execution_count": 11,
     "metadata": {},
     "output_type": "execute_result"
    }
   ],
   "source": [
    "\"\"\"\n",
    "\"pruning a weight\" means setting its value to zero and keeping it fixed - that is, \n",
    "it will not be updated in further training steps.\n",
    "we implement pruning with masks: a mask is a binary-valued tensor of the same \n",
    "shape as the associated weight tensor, with \"1\" for weights that are to be kept \n",
    "and \"0\" for weights that are to be pruned. it is applied to the weight tensor by \n",
    "element-wise multiplication. note that we need to wrap the pruning operation in \n",
    "torch.no_grad(), otherwise autograd will complain.\n",
    "\n",
    "how do we choose which weights to prune? there is a number of different possible \n",
    "criteria. we shall focus on magnitude-based weight pruning post training, a simple \n",
    "and effective pruning technique: the model is first trained. then, a certain number\n",
    "of weights with the smallest magnitude are pruned. after that, an additional couple\n",
    "steps of training are done to fine-tune (adjust) the remaining non-pruned weights. \n",
    "doing a single pruning step is called \"1-shot pruning\". alternatively, one can turn \n",
    "this into an iterative process, where pruning followed by fine-tuning is repeated \n",
    "multiple times until the desired sparsity is reached. the iterative process is more \n",
    "expensive, but also yields better results.\n",
    "\n",
    "the number of weights to prune in every iteration is arbitrary and is to be chosen \n",
    "depending on the details of the procedure and the goal. typically, the goal is to \n",
    "reduce the number of weights as much as possible while maintaining model accuracy. \n",
    "how many weights can be pruned without incurring any damage to the model depends \n",
    "on many details and can usually only be determined empirically in experiments. in \n",
    "general, pruning a large fraction of weights 1-shot is more damaging than pruning \n",
    "the same fraction of weights over multiple prune-train iterations. as a rule of \n",
    "thumb, pruning 20% is often a good starting point.\n",
    "\n",
    "a note on naming conventions:\n",
    "a model with some fraction of its weights pruned is called \"sparse\", while a model \n",
    "with all its weights present is called \"dense\". \n",
    "sparsity (of the model, or of a weight tensor) is defined as the fraction of pruned \n",
    "weights: that is, a dense model is 0.0 sparse; after pruning 20%, the model is 0.2 \n",
    "sparse etc. the opposite of sparsity is sometimes called \"connectivity\", defined as \n",
    "the fraction of the original weights remaining: connectivity = 1 - sparsity.\n",
    "\n",
    "before implementing magnitude-based pruning, we analyse the trained model's weights \n",
    "in a couple of plots.\n",
    "\"\"\""
   ]
  },
  {
   "cell_type": "markdown",
   "metadata": {},
   "source": [
    "## plotting the weights"
   ]
  },
  {
   "cell_type": "code",
   "execution_count": 12,
   "metadata": {},
   "outputs": [
    {
     "data": {
      "image/png": "[encoded data removed]",
      "text/plain": [
       "<Figure size 800x700 with 4 Axes>"
      ]
     },
     "metadata": {},
     "output_type": "display_data"
    }
   ],
   "source": [
    "W = model.layer2.weight.data.detach()\n",
    "\n",
    "fig, axs = plt.subplots(2,1, figsize=(8,7))\n",
    "\n",
    "ax = axs[0]\n",
    "im = ax.imshow(W, cmap='seismic', vmin = - abs(W).max(), vmax = abs(W).max())\n",
    "plt.colorbar(im, orientation='horizontal', location='top', pad=0.07, aspect=50)\n",
    "\n",
    "\n",
    "ax = axs[1]\n",
    "im = ax.imshow(abs(W), cmap='Reds', vmin = abs(W).min(), vmax = abs(W).max())\n",
    "plt.colorbar(im, orientation='horizontal', location='top', pad=0.07, aspect=50)\n",
    "\n",
    "plt.show()\n",
    "\n"
   ]
  },
  {
   "cell_type": "code",
   "execution_count": 15,
   "metadata": {},
   "outputs": [
    {
     "data": {
      "image/png": "[encoded data removed]",
      "text/plain": [
       "<Figure size 600x400 with 1 Axes>"
      ]
     },
     "metadata": {},
     "output_type": "display_data"
    }
   ],
   "source": [
    "absw = sorted(abs(W.flatten()))\n",
    "w = sorted(W.flatten())\n",
    "\n",
    "pp = 0.5\n",
    "k = int(pp * W.numel())\n",
    "# get the indices and values of the p smallest elements from abs(W)\n",
    "vals, inds = torch.topk(abs(W).flatten(), k, largest=False)\n",
    "mi = W.flatten()[inds].min()\n",
    "ma = W.flatten()[inds].max()\n",
    "\n",
    "fig, ax = plt.subplots(figsize=(6,4))\n",
    "ax.plot(absw, 'ro', label='abs(w)')\n",
    "ax.plot(w, 'bo', label='w')\n",
    "\n",
    "# add weights-to-prune\n",
    "ax.plot(sorted(abs(W).flatten()[inds]), 'x', color='cyan', label='to-prune')\n",
    "ax.axhline(mi, c='k', linewidth=0.8)\n",
    "ax.axhline(ma, c='k', linewidth=0.8)\n",
    "\n",
    "ax.legend()\n",
    "ax.set_title('sorted weights from layer 2')\n",
    "plt.show()"
   ]
  },
  {
   "cell_type": "markdown",
   "metadata": {},
   "source": [
    "## make layer masks"
   ]
  },
  {
   "cell_type": "code",
   "execution_count": 16,
   "metadata": {},
   "outputs": [
    {
     "data": {
      "text/plain": [
       "[Linear(in_features=784, out_features=32, bias=False),\n",
       " Linear(in_features=32, out_features=10, bias=False)]"
      ]
     },
     "execution_count": 16,
     "metadata": {},
     "output_type": "execute_result"
    }
   ],
   "source": [
    "model.layers"
   ]
  },
  {
   "cell_type": "code",
   "execution_count": 17,
   "metadata": {},
   "outputs": [],
   "source": [
    "prune_fract = 0.5  # fraction of weights to prune per layer\n",
    "\n",
    "for layer in model.layers:\n",
    "\n",
    "    layer.mask = torch.ones(layer.weight.shape, dtype = torch.bool) # all True (1) = all weights kept\n",
    "\n",
    "    # the number of weights to prune\n",
    "    k = int(prune_fract * layer.weight.numel()) \n",
    "\n",
    "    # get indices and values of the k smallest elements from abs(W)\n",
    "    vals, inds = torch.topk(abs(layer.weight).flatten(), k, largest=False)\n",
    "    \n",
    "    # setting mask to False (0) for weights to be removed\n",
    "    layer.mask.view(-1)[inds] = False\n"
   ]
  },
  {
   "cell_type": "code",
   "execution_count": 18,
   "metadata": {},
   "outputs": [
    {
     "name": "stdout",
     "output_type": "stream",
     "text": [
      "tensor(0.5000)\n",
      "tensor(0.5000)\n"
     ]
    }
   ],
   "source": [
    "# check fraction of ones in masks (= weights to keep)\n",
    "for layer in model.layers:\n",
    "    s = torch.sum(layer.mask)/layer.weight.numel()\n",
    "    print(s)"
   ]
  },
  {
   "cell_type": "markdown",
   "metadata": {},
   "source": [
    "## prune model"
   ]
  },
  {
   "cell_type": "code",
   "execution_count": 19,
   "metadata": {},
   "outputs": [
    {
     "name": "stdout",
     "output_type": "stream",
     "text": [
      "tensor(25088)\n",
      "tensor(320)\n"
     ]
    }
   ],
   "source": [
    "for l,layer in enumerate(model.layers):\n",
    "    print(torch.sum(layer.weight != 0))"
   ]
  },
  {
   "cell_type": "code",
   "execution_count": 20,
   "metadata": {},
   "outputs": [],
   "source": [
    "model.apply_mask()"
   ]
  },
  {
   "cell_type": "code",
   "execution_count": 21,
   "metadata": {},
   "outputs": [
    {
     "name": "stdout",
     "output_type": "stream",
     "text": [
      "=== layer 1 ===\n",
      "25088 - 12544 = 12544\n",
      "1-sparsity = 0.50\n",
      "=== layer 2 ===\n",
      "320 - 160 = 160\n",
      "1-sparsity = 0.50\n"
     ]
    }
   ],
   "source": [
    "for l,layer in enumerate(model.layers):\n",
    "    print(f'=== layer {l+1} ===')\n",
    "    numw_tot = layer.weight.numel()\n",
    "    numw_nonz = torch.sum(layer.weight != 0).item()\n",
    "    conn = (torch.sum(layer.weight != 0) / layer.weight.numel()).item()\n",
    "    print(f'{numw_tot} - {numw_nonz} = {numw_tot-numw_nonz}')\n",
    "    print(f'1-sparsity = {conn:.2f}')"
   ]
  },
  {
   "cell_type": "markdown",
   "metadata": {},
   "source": [
    "## eval pruned model"
   ]
  },
  {
   "cell_type": "code",
   "execution_count": 22,
   "metadata": {},
   "outputs": [
    {
     "name": "stdout",
     "output_type": "stream",
     "text": [
      "Test Result pre  pruning:  Loss 0.17  Acc 0.9594\n",
      "Test Result post pruning:  Loss 0.20  Acc 0.9493\n"
     ]
    }
   ],
   "source": [
    "loss_sum, total, correct = 0, 0, 0\n",
    "\n",
    "for images, labels in test_loader:\n",
    "    \n",
    "    outputs = model(images)\n",
    "    loss = lossfun(outputs, labels)\n",
    "    loss_sum += len(labels) * loss.item()\n",
    "    _, predicted = torch.max(outputs.data, 1)\n",
    "    correct += (predicted == labels).cpu().sum().item()\n",
    "    total += len(labels)\n",
    "\n",
    "test_loss = loss_sum/total\n",
    "test_acc = correct/total\n",
    "\n",
    "print(f'Test Result pre  pruning:  Loss {checkpoint[\"test_loss\"]:.2f}  Acc {checkpoint[\"test_acc\"]:.4f}')\n",
    "print(f'Test Result post pruning:  Loss {test_loss:.2f}  Acc {test_acc:.4f}')"
   ]
  },
  {
   "cell_type": "code",
   "execution_count": null,
   "metadata": {},
   "outputs": [],
   "source": []
  }
 ],
 "metadata": {
  "kernelspec": {
   "display_name": "py39",
   "language": "python",
   "name": "python3"
  },
  "language_info": {
   "codemirror_mode": {
    "name": "ipython",
    "version": 3
   },
   "file_extension": ".py",
   "mimetype": "text/x-python",
   "name": "python",
   "nbconvert_exporter": "python",
   "pygments_lexer": "ipython3",
   "version": "3.9.15"
  },
  "orig_nbformat": 4
 },
 "nbformat": 4,
 "nbformat_minor": 2
}
