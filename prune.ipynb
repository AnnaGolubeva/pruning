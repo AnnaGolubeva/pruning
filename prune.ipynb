{
 "cells": [
  {
   "cell_type": "code",
   "execution_count": 1,
   "metadata": {},
   "outputs": [],
   "source": [
    "import torch\n",
    "import torch.nn as nn\n",
    "import numpy as np\n",
    "\n",
    "import matplotlib.pyplot as plt\n",
    "%matplotlib inline"
   ]
  },
  {
   "cell_type": "markdown",
   "metadata": {},
   "source": [
    "## micrograd Value"
   ]
  },
  {
   "cell_type": "code",
   "execution_count": null,
   "metadata": {},
   "outputs": [],
   "source": [
    "import math\n",
    "\n",
    "class Value:\n",
    "    def __init__(self, data, _children=(), _op='', label=''):\n",
    "        self.data = data\n",
    "        self.grad = 0 \n",
    "        # var.grad = partial derivative of the output \n",
    "        # (i.e., end of the computational graph) wrt this variable\n",
    "        self._backward = lambda: None\n",
    "        self._prev = set(_children)\n",
    "        self._op = _op\n",
    "        self.label = label\n",
    "\n",
    "    def __repr__(self):\n",
    "        return f'Value(data={self.data})'\n",
    "\n",
    "    def __add__(self, other):\n",
    "        other = other if isinstance(other, Value) else Value(other)\n",
    "        out = Value(self.data + other.data, (self, other), '+')\n",
    "        \n",
    "        def _backward():\n",
    "            self.grad += 1.0 * out.grad\n",
    "            other.grad += 1.0 * out.grad\n",
    "        out._backward = _backward\n",
    "    \n",
    "        return out\n",
    "\n",
    "    def __radd__(self, other): # other + self\n",
    "        return self + other\n",
    "\n",
    "\n",
    "    def __mul__(self, other):\n",
    "        other = other if isinstance(other, Value) else Value(other)\n",
    "        out = Value(self.data * other.data, (self, other), '*')\n",
    "\n",
    "        def _backward():\n",
    "            self.grad += other.data * out.grad  # d_out/d_self * out.grad  # out = self * other\n",
    "            other.grad += self.data * out.grad  # d_out/d_other * out.grad\n",
    "        out._backward = _backward\n",
    "        return out\n",
    "\n",
    "\n",
    "    def __rmul__(self, other): # other * self\n",
    "        return self * other\n",
    "\n",
    "\n",
    "    def __pow__(self, other):\n",
    "        assert isinstance(other, (int, float)), \"only supporting int or float powers for now\"\n",
    "        out = Value(self.data**other, (self,), f'**{other}')\n",
    "\n",
    "        def _backward():\n",
    "            self.grad += other * self.data**(other-1) * out.grad\n",
    "        out._backward = _backward\n",
    "        return out\n",
    "\n",
    "\n",
    "    def __truediv__(self, other): # self/other\n",
    "        return self * other**-1\n",
    "\n",
    "    def __neg__(self): # - self\n",
    "        return self * -1\n",
    "\n",
    "    def __sub__(self, other): # self-other\n",
    "        return self + (-other)\n",
    "\n",
    "    def __rsub__(self, other): # other - self\n",
    "        return -1*self + other\n",
    "\n",
    "\n",
    "    def tanh(self):\n",
    "        x = self.data\n",
    "        # tanh(x) = [exp(2x)-1]/[exp(2x)+1]\n",
    "        t = (math.exp(2*x) - 1)/(math.exp(2*x) + 1)\n",
    "        out = Value(t, (self,), 'tanh')\n",
    "        \n",
    "        def _backward():\n",
    "            # d/dx tanh(x) = 1-tanh(x)^2\n",
    "            self.grad += (1.0-t**2) * out.grad\n",
    "        out._backward = _backward\n",
    "        return out\n",
    "\n",
    "\n",
    "    def exp(self):\n",
    "        x = self.data\n",
    "        out = Value(math.exp(x), (self, ), 'exp')\n",
    "\n",
    "        def _backward():\n",
    "            self.grad += out.data * out.grad\n",
    "        out._backward = _backward\n",
    "        return out\n",
    "\n",
    "\n",
    "    def backward(self):\n",
    "        topo = []\n",
    "        visited = set()\n",
    "        \n",
    "        def collect_leaves(node):\n",
    "            if node not in visited:\n",
    "                visited.add(node)\n",
    "                for child in node._prev:\n",
    "                    collect_leaves(child)\n",
    "                topo.append(node)\n",
    "\n",
    "        collect_leaves(self)\n",
    "        self.grad=1.0\n",
    "\n",
    "        for node in reversed(topo):\n",
    "            node._backward()\n"
   ]
  },
  {
   "cell_type": "code",
   "execution_count": null,
   "metadata": {},
   "outputs": [],
   "source": [
    "import random\n",
    "\n",
    "class Neuron:\n",
    "    def __init__(self, nin):\n",
    "        self.weight = [Value(random.uniform(-1,1)) for _ in range(nin)]\n",
    "        self.bias = Value(random.uniform(-1,1))\n",
    "\n",
    "    def __call__(self, x):\n",
    "        act = sum((wi*xi for wi, xi in zip(self.weight, x)), self.bias)\n",
    "        out = act.tanh()\n",
    "        return out\n",
    "\n",
    "    def parameters(self):\n",
    "        return self.weight + [self.bias]\n",
    "\n",
    "\n",
    "class Layer:\n",
    "    def __init__(self, nin, nout):\n",
    "        self.neurons = [Neuron(nin) for _ in range(nout)]\n",
    "\n",
    "    def __call__(self, x):\n",
    "        outs = [n(x) for n in self.neurons]\n",
    "        return outs[0] if len(outs)==1 else outs\n",
    "\n",
    "    def parameters(self):\n",
    "        return [p for neuron in self.neurons for p in neuron.parameters()]\n",
    "\n",
    "\n",
    "class MLP:\n",
    "    def __init__(self, nin, nouts):\n",
    "        sz = [nin] + nouts\n",
    "        self.layers = [Layer(sz[i], sz[i+1]) for i in range(len(nouts))]\n",
    "\n",
    "    def __call__(self, x):\n",
    "        for layer in self.layers:\n",
    "            x = layer(x)\n",
    "        return x\n",
    "\n",
    "    def parameters(self):\n",
    "        return [p for layer in self.layers for p in layer.parameters()]\n"
   ]
  },
  {
   "cell_type": "markdown",
   "metadata": {},
   "source": [
    "# Training"
   ]
  },
  {
   "cell_type": "markdown",
   "metadata": {},
   "source": [
    "## load the dataset"
   ]
  },
  {
   "cell_type": "code",
   "execution_count": 2,
   "metadata": {},
   "outputs": [],
   "source": [
    "import torchvision\n",
    "from torchvision import datasets, transforms\n",
    "\n",
    "\n",
    "def load_MNIST(data_dir, split, batch_size, shuffle, kwargs={}):\n",
    "    \"\"\" Load and preprocess MNIST data, return data loader. \"\"\"\n",
    "\n",
    "    train_flag= True if split=='train' else False\n",
    "    transform= transforms.Compose(\n",
    "        [transforms.ToTensor(), \n",
    "         transforms.Normalize((0.1307,), (0.3081,))\n",
    "         ])\n",
    "    dataset= datasets.MNIST(data_dir, train=train_flag, \n",
    "                            download=True, transform=transform)\n",
    "    \n",
    "    if batch_size ==0:  batch_size = len(dataset) # load full test set\n",
    "    data_loader= torch.utils.data.DataLoader(dataset, \n",
    "                                             batch_size = batch_size, \n",
    "                                             shuffle = shuffle, \n",
    "                                             **kwargs)\n",
    "    return data_loader\n",
    "\n",
    "\n",
    "data_dir = './data'\n",
    "input_size= 28**2\n",
    "num_classes = 10\n",
    "\n",
    "mbs = 128\n",
    "\n",
    "train_loader = load_MNIST(data_dir, 'train', mbs, shuffle=True)\n",
    "test_loader  = load_MNIST(data_dir, 'test', 0, shuffle=False)\n"
   ]
  },
  {
   "cell_type": "code",
   "execution_count": null,
   "metadata": {},
   "outputs": [],
   "source": [
    "# how to get a single minibatch from the data loader\n",
    "_inputs, _labels = next(iter(train_loader))"
   ]
  },
  {
   "attachments": {},
   "cell_type": "markdown",
   "metadata": {},
   "source": [
    "## plot some examples from the training set"
   ]
  },
  {
   "cell_type": "code",
   "execution_count": null,
   "metadata": {},
   "outputs": [],
   "source": [
    "g = torch.Generator().manual_seed(4)\n",
    "\n",
    "ind = torch.randperm(len(_labels), generator=g)[:10]\n",
    "xs, ys = _inputs[ind], _labels[ind]\n",
    "\n",
    "\n",
    "fig, axs = plt.subplots(2,5, figsize=(10,4))\n",
    "\n",
    "for i, ax in enumerate(axs.flatten()):\n",
    "\n",
    "    x = xs[i][0]\n",
    "    y = ys[i]\n",
    "    ax.imshow(x)\n",
    "\n",
    "    ax.set_title(y.item())\n",
    "    \n",
    "    ax.set_xticks([])\n",
    "    ax.set_yticks([])\n",
    "\n",
    "\n"
   ]
  },
  {
   "cell_type": "markdown",
   "metadata": {},
   "source": [
    "## plot samples from one class"
   ]
  },
  {
   "cell_type": "code",
   "execution_count": null,
   "metadata": {},
   "outputs": [],
   "source": [
    "# this loads the entire test set (10k), because it is not mini-batched\n",
    "_inputs, _labels = next(iter(test_loader)) "
   ]
  },
  {
   "cell_type": "code",
   "execution_count": null,
   "metadata": {},
   "outputs": [],
   "source": [
    "g = torch.Generator().manual_seed(4)\n",
    "\n",
    "target_class = 3\n",
    "target_inds = torch.where(_labels== target_class)[0]\n",
    "selection = torch.randperm(len(target_inds), generator=g)[:10]\n",
    "xs, ys = _inputs[target_inds[selection]], _labels[target_inds[selection]]\n",
    "\n",
    "\n",
    "fig, axs = plt.subplots(2,5, figsize=(10,4))\n",
    "\n",
    "for i, ax in enumerate(axs.flatten()):\n",
    "\n",
    "    x = xs[i][0]\n",
    "    y = ys[i]\n",
    "    ax.imshow(x)\n",
    "\n",
    "    ax.set_title(y.item())\n",
    "    \n",
    "    ax.set_xticks([])\n",
    "    ax.set_yticks([])\n",
    "\n"
   ]
  },
  {
   "attachments": {},
   "cell_type": "markdown",
   "metadata": {},
   "source": [
    "## define model"
   ]
  },
  {
   "cell_type": "code",
   "execution_count": 30,
   "metadata": {},
   "outputs": [],
   "source": [
    "class miniNet(nn.Module):\n",
    "    def __init__(self):\n",
    "        super().__init__()\n",
    "\n",
    "        self.flatten = nn.Flatten()\n",
    "        self.layer1 = nn.Linear(28*28, 32, bias=False)\n",
    "        self.layer2 = nn.Linear(32, 10, bias=False)\n",
    "        self.actfun = nn.ReLU()\n",
    "\n",
    "        self.layers = [self.layer1, self.layer2]\n",
    "\n",
    "        # for pruning\n",
    "        self.layer1.mask = None\n",
    "        self.layer2.mask = None\n",
    "        \n",
    "    @torch.no_grad()\n",
    "    def apply_mask(self):\n",
    "        for layer in self.layers:\n",
    "            layer.weight *= layer.mask\n",
    "        \n",
    "    def forward(self, x):\n",
    "        x = self.flatten(x) # flattens along all dimensions except the 0-th (the batch dim)\n",
    "        out = self.layer1(x)\n",
    "        out = self.actfun(out)\n",
    "        out = self.layer2(out)\n",
    "\n",
    "        return out\n",
    "    "
   ]
  },
  {
   "cell_type": "code",
   "execution_count": 4,
   "metadata": {},
   "outputs": [],
   "source": [
    "model = miniNet()"
   ]
  },
  {
   "cell_type": "code",
   "execution_count": 5,
   "metadata": {},
   "outputs": [
    {
     "name": "stdout",
     "output_type": "stream",
     "text": [
      "layer1.weight   torch.Size([32, 784])\n",
      "layer2.weight   torch.Size([10, 32])\n"
     ]
    }
   ],
   "source": [
    "for p in model.named_parameters():\n",
    "    print(f'{p[0]:15s} {p[1].shape}')\n",
    "\n",
    "# for p in model.parameters():\n",
    "#     print(p.shape)"
   ]
  },
  {
   "cell_type": "markdown",
   "metadata": {},
   "source": [
    "## train model"
   ]
  },
  {
   "cell_type": "code",
   "execution_count": null,
   "metadata": {},
   "outputs": [],
   "source": [
    "lr = 0.5\n",
    "\n",
    "optimizer = torch.optim.SGD(model.parameters(), lr = lr) \n",
    "scheduler = torch.optim.lr_scheduler.MultiStepLR(optimizer, milestones=[20,35], gamma=0.1)\n",
    "lossfun = nn.CrossEntropyLoss()"
   ]
  },
  {
   "cell_type": "code",
   "execution_count": null,
   "metadata": {},
   "outputs": [],
   "source": [
    "max_epochs = 40 # number of training epochs\n",
    "\n",
    "step_counter = 0 # counting training iterations (gradient updates done)\n",
    "epoch = 0\n",
    "\n",
    "model.train()\n",
    "while epoch <= max_epochs:\n",
    "    loss_sum, total, correct = 0, 0, 0\n",
    "\n",
    "    for mbi, mini_batch in enumerate(train_loader):\n",
    "        step_counter += 1\n",
    "        images, labels = mini_batch\n",
    "        \n",
    "        #=== forward pass\n",
    "        outputs = model(images)\n",
    "        loss = lossfun(outputs, labels)\n",
    "        loss_sum += len(labels) * loss.item()\n",
    "        _, predicted = torch.max(outputs.data, 1)\n",
    "        correct += (predicted == labels).cpu().sum().item()\n",
    "        total += len(labels)\n",
    "\n",
    "        #=== backward pass\n",
    "        optimizer.zero_grad()\n",
    "        loss.backward()\n",
    "        optimizer.step()\n",
    "\n",
    "    #==== epoch completed.\n",
    "\n",
    "    train_loss = loss_sum/total\n",
    "    train_acc = correct/total\n",
    "    \n",
    "    print(f'=== epoch {epoch:3}:  Loss {train_loss:.2f}  Acc {train_acc:.4f}')\n",
    "\n",
    "    scheduler.step()\n",
    "    epoch += 1 \n"
   ]
  },
  {
   "cell_type": "markdown",
   "metadata": {},
   "source": [
    "## evaluate trained model"
   ]
  },
  {
   "cell_type": "code",
   "execution_count": null,
   "metadata": {},
   "outputs": [],
   "source": [
    "model.eval()\n",
    "loss_sum, total, correct = 0, 0, 0\n",
    "\n",
    "for images, labels in test_loader:\n",
    "    \n",
    "    outputs = model(images)\n",
    "    loss = lossfun(outputs, labels)\n",
    "    loss_sum += len(labels) * loss.item()\n",
    "    _, predicted = torch.max(outputs.data, 1)\n",
    "    correct += (predicted == labels).cpu().sum().item()\n",
    "    total += len(labels)\n",
    "\n",
    "test_loss = loss_sum/total\n",
    "test_acc = correct/total\n",
    "\n",
    "print(f'Final Test Result:    Loss {test_loss:.2f}  Acc {test_acc:.4f}')"
   ]
  },
  {
   "cell_type": "markdown",
   "metadata": {},
   "source": [
    "## save model checkpoint"
   ]
  },
  {
   "cell_type": "code",
   "execution_count": null,
   "metadata": {},
   "outputs": [],
   "source": [
    "import os\n",
    "\n",
    "def save_checkpoint(state, savepath):\n",
    "    \"\"\"Save model checkpoint.\"\"\"\n",
    "    # create (sub)dirs if not yet existent\n",
    "    savedir = os.path.dirname(savepath)\n",
    "    if not os.path.exists(savedir):\n",
    "        os.mkdir(savedir)\n",
    "    torch.save(state, f'{savepath}.ckpt')\n",
    "\n",
    "\n",
    "\n",
    "state= {'epoch': epoch, \n",
    "        'state_dict': model.state_dict(),\n",
    "        'optimizer': optimizer.state_dict(), \n",
    "        'scheduler': scheduler.state_dict(),\n",
    "        'test_loss': test_loss, \n",
    "        'test_acc': test_acc\n",
    "        }\n",
    "\n",
    "save_name= './checkpoints/final'\n",
    "save_checkpoint(state, save_name)\n"
   ]
  },
  {
   "cell_type": "markdown",
   "metadata": {},
   "source": [
    "## load model from checkpoint"
   ]
  },
  {
   "cell_type": "code",
   "execution_count": 31,
   "metadata": {},
   "outputs": [
    {
     "data": {
      "text/plain": [
       "miniNet(\n",
       "  (flatten): Flatten(start_dim=1, end_dim=-1)\n",
       "  (layer1): Linear(in_features=784, out_features=32, bias=False)\n",
       "  (layer2): Linear(in_features=32, out_features=10, bias=False)\n",
       "  (actfun): ReLU()\n",
       ")"
      ]
     },
     "execution_count": 31,
     "metadata": {},
     "output_type": "execute_result"
    }
   ],
   "source": [
    "# load model from checkpoint\n",
    "\n",
    "model = miniNet()\n",
    "\n",
    "lr = 0.5\n",
    "optimizer = torch.optim.SGD(model.parameters(), lr = lr) \n",
    "scheduler = torch.optim.lr_scheduler.MultiStepLR(optimizer, milestones=[20,35], gamma=0.1)\n",
    "lossfun = nn.CrossEntropyLoss()\n",
    "\n",
    "save_name= './checkpoints/final'\n",
    "checkpoint = torch.load(save_name+'.ckpt')\n",
    "model.load_state_dict(checkpoint['state_dict'])\n",
    "optimizer.load_state_dict(checkpoint['optimizer'])\n",
    "# scheduler.load_state_dict(checkpoint['scheduler'])\n",
    "\n",
    "epoch = checkpoint['epoch']\n",
    "loss = checkpoint['test_loss']\n",
    "acc = checkpoint['test_acc']\n",
    "\n",
    "model.eval()"
   ]
  },
  {
   "cell_type": "markdown",
   "metadata": {},
   "source": [
    "# Pruning"
   ]
  },
  {
   "cell_type": "code",
   "execution_count": null,
   "metadata": {},
   "outputs": [],
   "source": [
    "\"\"\"\n",
    "we shall focus on magnitude-based weight pruning post training, a simple and effective pruning technique. \n",
    "the model is first trained, then a set number of weights with the smallest magnitude are pruned. after that, \n",
    "an additional couple steps of training are done to fine-tune (adjust) the remaining non-pruned weights. \n",
    "doing a single pruning step is called 1-shot. this can be turned into an iterative process, where \n",
    "pruning followed by fine-tuning is repeated multiple times until the desired sparsity is reached. \n",
    "the iterative process is more expensive, but also yields better results.\n",
    "\n",
    "\n",
    "before implementing magnitude-based pruning, lets analyse the trained model's weights in a couple of plots.\n",
    "\"\"\""
   ]
  },
  {
   "cell_type": "markdown",
   "metadata": {},
   "source": [
    "## plotting the weights"
   ]
  },
  {
   "cell_type": "code",
   "execution_count": 32,
   "metadata": {},
   "outputs": [
    {
     "data": {
      "image/png": "[encoded data removed]",
      "text/plain": [
       "<Figure size 800x700 with 4 Axes>"
      ]
     },
     "metadata": {},
     "output_type": "display_data"
    }
   ],
   "source": [
    "W = model.layer2.weight.data.detach()\n",
    "\n",
    "fig, axs = plt.subplots(2,1, figsize=(8,7))\n",
    "\n",
    "ax = axs[0]\n",
    "im = ax.imshow(W, cmap='seismic', vmin = - abs(W).max(), vmax = abs(W).max())\n",
    "plt.colorbar(im, orientation='horizontal', location='top', pad=0.07, aspect=50)\n",
    "\n",
    "\n",
    "ax = axs[1]\n",
    "im = ax.imshow(abs(W), cmap='Reds', vmin = abs(W).min(), vmax = abs(W).max())\n",
    "plt.colorbar(im, orientation='horizontal', location='top', pad=0.07, aspect=50)\n",
    "\n",
    "plt.show()\n",
    "\n"
   ]
  },
  {
   "cell_type": "code",
   "execution_count": 33,
   "metadata": {},
   "outputs": [
    {
     "data": {
      "image/png": "[encoded data removed]",
      "text/plain": [
       "<Figure size 600x400 with 1 Axes>"
      ]
     },
     "metadata": {},
     "output_type": "display_data"
    }
   ],
   "source": [
    "absw = sorted(abs(W.flatten()))\n",
    "w = sorted(W.flatten())\n",
    "\n",
    "p = int(0.2 * W.numel())\n",
    "# get the indices and values of the p smallest elements from abs(W)\n",
    "vals, inds = torch.topk(abs(W).flatten(), p, largest=False)\n",
    "mi = W.flatten()[inds].min()\n",
    "ma = W.flatten()[inds].max()\n",
    "\n",
    "fig, ax = plt.subplots(figsize=(6,4))\n",
    "ax.plot(absw, 'ro', label='abs(w)')\n",
    "ax.plot(w, 'bo', label='w')\n",
    "\n",
    "# add weights-to-prune\n",
    "ax.plot(sorted(abs(W).flatten()[inds]), 'x', color='cyan', label='to-prune')\n",
    "ax.axhline(mi, c='k', linewidth=0.8)\n",
    "ax.axhline(ma, c='k', linewidth=0.8)\n",
    "\n",
    "ax.legend()\n",
    "ax.set_title('sorted weights from layer 2')\n",
    "plt.show()"
   ]
  },
  {
   "attachments": {},
   "cell_type": "markdown",
   "metadata": {},
   "source": [
    "# magnitude-based pruning post training"
   ]
  },
  {
   "cell_type": "code",
   "execution_count": 22,
   "metadata": {},
   "outputs": [
    {
     "data": {
      "text/plain": [
       "'\\n\"pruning a weight\" means setting its value to zero and keeping it fixed \\n- that is, it will not be updated in further training steps.\\n\\n\\nhowever, setting a weight to zero is a non-differentiable operation,\\nand autograd can not handle it. (????)\\n\\n\\ntherefore, we shall use masks: a mask is a binary-valued tensor of the same \\nshape as the associated weight tensor, with \"1\" for weights that are to be kept \\nand \"0\" for weights that are to be pruned. \\nthe mask is applied to the weight tensor via element-wise multiplication. \\n(on the forward pass to the weight tensor, on the backward pass to the weight.grad tensor)\\n'"
      ]
     },
     "execution_count": 22,
     "metadata": {},
     "output_type": "execute_result"
    }
   ],
   "source": [
    "\"\"\"\n",
    "\"pruning a weight\" means setting its value to zero and keeping it fixed \n",
    "- that is, it will not be updated in further training steps.\n",
    "\n",
    "\n",
    "however, setting a weight to zero is a non-differentiable operation,\n",
    "and autograd can not handle it. (????)\n",
    "\n",
    "\n",
    "therefore, we shall use masks: a mask is a binary-valued tensor of the same \n",
    "shape as the associated weight tensor, with \"1\" for weights that are to be kept \n",
    "and \"0\" for weights that are to be pruned. \n",
    "the mask is applied to the weight tensor via element-wise multiplication. \n",
    "(on the forward pass to the weight tensor, on the backward pass to the weight.grad tensor)\n",
    "\"\"\""
   ]
  },
  {
   "cell_type": "markdown",
   "metadata": {},
   "source": [
    "## make layer masks"
   ]
  },
  {
   "cell_type": "code",
   "execution_count": 34,
   "metadata": {},
   "outputs": [
    {
     "data": {
      "text/plain": [
       "[Linear(in_features=784, out_features=32, bias=False),\n",
       " Linear(in_features=32, out_features=10, bias=False)]"
      ]
     },
     "execution_count": 34,
     "metadata": {},
     "output_type": "execute_result"
    }
   ],
   "source": [
    "model.layers"
   ]
  },
  {
   "cell_type": "code",
   "execution_count": 35,
   "metadata": {},
   "outputs": [],
   "source": [
    "prune_fract = 0.2  # fraction of weights to prune per layer\n",
    "\n",
    "\n",
    "for layer in model.layers:\n",
    "\n",
    "    layer.mask = torch.ones(layer.weight.shape, dtype = torch.bool) # all True (1) = all weights kept\n",
    "\n",
    "    # the number of weights to prune\n",
    "    k = int(prune_fract * layer.weight.numel()) \n",
    "\n",
    "    # get indices and values of the k smallest elements from abs(W)\n",
    "    vals, inds = torch.topk(abs(layer.weight).flatten(), k, largest=False)\n",
    "    \n",
    "    # setting mask to False (0) for weights to be removed\n",
    "    layer.mask.view(-1)[inds] = False\n"
   ]
  },
  {
   "cell_type": "code",
   "execution_count": 36,
   "metadata": {},
   "outputs": [
    {
     "name": "stdout",
     "output_type": "stream",
     "text": [
      "tensor(0.8000)\n",
      "tensor(0.8000)\n"
     ]
    }
   ],
   "source": [
    "# check fraction of ones in masks (= weights to keep)\n",
    "for layer in model.layers:\n",
    "    s = torch.sum(layer.mask)/layer.weight.numel()\n",
    "    print(s)"
   ]
  },
  {
   "cell_type": "markdown",
   "metadata": {},
   "source": [
    "## prune model"
   ]
  },
  {
   "cell_type": "code",
   "execution_count": 62,
   "metadata": {},
   "outputs": [
    {
     "name": "stdout",
     "output_type": "stream",
     "text": [
      "tensor(20071)\n",
      "tensor(256)\n"
     ]
    }
   ],
   "source": [
    "for l,layer in enumerate(model.layers):\n",
    "    print(torch.sum(layer.weight != 0))"
   ]
  },
  {
   "cell_type": "code",
   "execution_count": 38,
   "metadata": {},
   "outputs": [],
   "source": [
    "model.apply_mask()"
   ]
  },
  {
   "cell_type": "code",
   "execution_count": 60,
   "metadata": {},
   "outputs": [
    {
     "name": "stdout",
     "output_type": "stream",
     "text": [
      "=== layer 1 ===\n",
      "25088 - 20071 = 5017\n",
      "1-sparsity = 0.80\n",
      "=== layer 2 ===\n",
      "320 - 256 = 64\n",
      "1-sparsity = 0.80\n"
     ]
    }
   ],
   "source": [
    "for l,layer in enumerate(model.layers):\n",
    "    print(f'=== layer {l+1} ===')\n",
    "    numw_tot = layer.weight.numel()\n",
    "    numw_nonz = torch.sum(layer.weight != 0).item()\n",
    "    conn = (torch.sum(layer.weight != 0) / layer.weight.numel()).item()\n",
    "    print(f'{numw_tot} - {numw_nonz} = {numw_tot-numw_nonz}')\n",
    "    print(f'1-sparsity = {conn:.2f}')"
   ]
  },
  {
   "cell_type": "markdown",
   "metadata": {},
   "source": [
    "## eval pruned model"
   ]
  },
  {
   "cell_type": "code",
   "execution_count": 61,
   "metadata": {},
   "outputs": [
    {
     "name": "stdout",
     "output_type": "stream",
     "text": [
      "Test Result pre  pruning:  Loss 0.17  Acc 0.9594\n",
      "Test Result post pruning:  Loss 0.17  Acc 0.9582\n"
     ]
    }
   ],
   "source": [
    "loss_sum, total, correct = 0, 0, 0\n",
    "\n",
    "for images, labels in test_loader:\n",
    "    \n",
    "    outputs = model(images)\n",
    "    loss = lossfun(outputs, labels)\n",
    "    loss_sum += len(labels) * loss.item()\n",
    "    _, predicted = torch.max(outputs.data, 1)\n",
    "    correct += (predicted == labels).cpu().sum().item()\n",
    "    total += len(labels)\n",
    "\n",
    "test_loss = loss_sum/total\n",
    "test_acc = correct/total\n",
    "\n",
    "print(f'Test Result pre  pruning:  Loss {checkpoint[\"test_loss\"]:.2f}  Acc {checkpoint[\"test_acc\"]:.4f}')\n",
    "print(f'Test Result post pruning:  Loss {test_loss:.2f}  Acc {test_acc:.4f}')"
   ]
  },
  {
   "cell_type": "code",
   "execution_count": null,
   "metadata": {},
   "outputs": [],
   "source": []
  }
 ],
 "metadata": {
  "kernelspec": {
   "display_name": "py39",
   "language": "python",
   "name": "python3"
  },
  "language_info": {
   "codemirror_mode": {
    "name": "ipython",
    "version": 3
   },
   "file_extension": ".py",
   "mimetype": "text/x-python",
   "name": "python",
   "nbconvert_exporter": "python",
   "pygments_lexer": "ipython3",
   "version": "3.9.15"
  },
  "orig_nbformat": 4
 },
 "nbformat": 4,
 "nbformat_minor": 2
}
